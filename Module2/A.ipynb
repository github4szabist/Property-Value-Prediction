{
 "cells": [
  {
   "cell_type": "code",
   "execution_count": null,
   "id": "c95d8989-8361-4604-a586-3e9fdb12adcf",
   "metadata": {},
   "outputs": [],
   "source": [
    "from boto3 import client, resource\n",
    "from os import mkdir\n",
    "from shutil import rmtree"
   ]
  },
  {
   "cell_type": "code",
   "execution_count": null,
   "id": "b5aac8da-edf0-4502-ae18-a28f4410ca77",
   "metadata": {},
   "outputs": [],
   "source": [
    "SSM = client(\n",
    "\t\"ssm\",\n",
    "\taws_access_key_id = \"\",\n",
    "\taws_secret_access_key = \"\",\n",
    "\tregion_name = \"\"\n",
    ")\n",
    "bucket = resource(\n",
    "\t\"s3\",\n",
    "\taws_access_key_id = \"\",\n",
    "\taws_secret_access_key = \"\"\n",
    ").Bucket(\"\")"
   ]
  },
  {
   "cell_type": "code",
   "execution_count": null,
   "id": "8562bd53-8cb9-4721-a9e9-ca087a97d750",
   "metadata": {},
   "outputs": [],
   "source": [
    "links = SSM.get_parameter(Name = \"param3\")[\"Parameter\"][\"Value\"].split()\n",
    "latestVersion = int(SSM.get_parameter(Name = \"param2\")[\"Parameter\"][\"Value\"])\n",
    "numberOfVersions = 3"
   ]
  },
  {
   "cell_type": "code",
   "execution_count": null,
   "id": "09b046ce-7c32-4b21-ab0e-61d400f60a9d",
   "metadata": {},
   "outputs": [],
   "source": [
    "rmtree(\"csv\")\n",
    "mkdir(\"csv\")"
   ]
  },
  {
   "cell_type": "code",
   "execution_count": null,
   "id": "d1bc54c0-2c41-49d1-9dce-86aefe93802b",
   "metadata": {},
   "outputs": [],
   "source": [
    "for link in links:\n",
    "\tvar1 = link.split(\"/\")\n",
    "\tvar2 = var1[-1].split(\"-\")\n",
    "\tmkdir(\"csv/\" + var2[0] + \"_\" + var1[3])"
   ]
  },
  {
   "cell_type": "code",
   "execution_count": null,
   "id": "63e0eb07-a525-490b-9733-f3d7b8e6b6b5",
   "metadata": {
    "tags": []
   },
   "outputs": [],
   "source": [
    "for i in range(latestVersion, latestVersion - numberOfVersions, -1):\n",
    "\tfor link in links:\n",
    "\t\tvar1 = link.split(\"/\")\n",
    "\t\tvar2 = var1[-1].split(\"-\")\n",
    "\t\tPrefix = str(i) + \"/\" + var2[0] + \"/\" + var1[3] + \"/\"\n",
    "\t\tprint(Prefix)\n",
    "\t\tfor filtered in bucket.objects.filter(Prefix = Prefix):\n",
    "\t\t\tobjectKey = filtered.key\n",
    "\t\t\tbucket.download_file(objectKey, \"csv/\" + var2[0] + \"_\" + var1[3] + \"/\" + str(i) + \"-\" + objectKey[len(Prefix):])\n",
    "\t\t\tprint(objectKey)\n",
    "\t\tprint(\"#\" * 100)"
   ]
  }
 ],
 "metadata": {
  "kernelspec": {
   "display_name": "Python 3 (ipykernel)",
   "language": "python",
   "name": "python3"
  },
  "language_info": {
   "codemirror_mode": {
    "name": "ipython",
    "version": 3
   },
   "file_extension": ".py",
   "mimetype": "text/x-python",
   "name": "python",
   "nbconvert_exporter": "python",
   "pygments_lexer": "ipython3",
   "version": "3.11.4"
  }
 },
 "nbformat": 4,
 "nbformat_minor": 5
}
