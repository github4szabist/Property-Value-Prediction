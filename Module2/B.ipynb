{
 "cells": [
  {
   "cell_type": "code",
   "execution_count": null,
   "id": "c61798bf-ae0a-48c8-85f6-304f3eacc97e",
   "metadata": {},
   "outputs": [],
   "source": [
    "from os import listdir\n",
    "import pandas as pd"
   ]
  },
  {
   "cell_type": "code",
   "execution_count": null,
   "id": "96e9c745-11f9-43aa-ad75-0b17190d5a87",
   "metadata": {
    "tags": []
   },
   "outputs": [],
   "source": [
    "for folder in listdir(\"csv\"):\n",
    "\tdfs = [pd.read_csv(\"csv/\" + folder + \"/\" + x) for x in listdir(\"csv/\" + folder)]\n",
    "\tdf = pd.concat(dfs).sample(frac = 1)\n",
    "\tignore = [x for x in df if len(df[x].unique()) == 1]\n",
    "\tdf.drop(ignore, axis = 1, inplace = True)\n",
    "\tdf.drop_duplicates(inplace = True)\n",
    "\tdf.reset_index(drop = True, inplace = True)\n",
    "\tdf.to_csv(\"data/\" + folder + \".csv\", index = False)\n",
    "\tprint(folder)\n",
    "\tprint(len(df.index), \"Properties\", \"=>\", len(ignore), \"Features Dropped\")\n",
    "\tprint()"
   ]
  }
 ],
 "metadata": {
  "kernelspec": {
   "display_name": "Python 3 (ipykernel)",
   "language": "python",
   "name": "python3"
  },
  "language_info": {
   "codemirror_mode": {
    "name": "ipython",
    "version": 3
   },
   "file_extension": ".py",
   "mimetype": "text/x-python",
   "name": "python",
   "nbconvert_exporter": "python",
   "pygments_lexer": "ipython3",
   "version": "3.11.4"
  }
 },
 "nbformat": 4,
 "nbformat_minor": 5
}
